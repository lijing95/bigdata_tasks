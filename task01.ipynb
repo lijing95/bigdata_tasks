{
 "cells": [
  {
   "cell_type": "markdown",
   "metadata": {},
   "source": [
    "Задача 1\n",
    "Нужно написать две программы:\n",
    "\n",
    "Первая генерирует бинарный файл (min 2Гб), состоящий из случайных 32-разрядных беззнаковых целых чисел (big endian).\n",
    "Вторая считает сумму этих чисел (с применением длинной арифметики), находит минимальное и максимальное число.\n",
    "Реализуйте две версии:\n",
    "\n",
    "Простое последовательное чтение\n",
    "Многопоточная + memory-mapped files.\n",
    "Сравните время работы.\n",
    "\n",
    "\n",
    "你需要编写两个程序:\n",
    "第一个生成一个由随机32位无符号整数（big endian）组成的二进制文件（最小2GB）。\n",
    "第二个计算这些数字的总和（使用长算术）并找到最小和最大数字。\n",
    "实现两个版本 -\n",
    "1. 简单的顺序读取\n",
    "2. 多线程+内存映射文件。\n",
    "比较工作时间"
   ]
  },
  {
   "cell_type": "code",
   "execution_count": 4,
   "metadata": {},
   "outputs": [],
   "source": [
    "import numpy as np\n",
    "import time\n",
    "import threading\n",
    "import mmap\n",
    "from concurrent.futures import ThreadPoolExecutor\n",
    "import concurrent.futures"
   ]
  },
  {
   "cell_type": "code",
   "execution_count": 1,
   "metadata": {},
   "outputs": [],
   "source": [
    "file_name = 'numbers.txt'"
   ]
  },
  {
   "cell_type": "markdown",
   "metadata": {},
   "source": [
    "### create file"
   ]
  },
  {
   "cell_type": "code",
   "execution_count": 98,
   "metadata": {},
   "outputs": [],
   "source": [
    "def create_file(file_name):\n",
    "    numbers = np.random.randint(0,2**32-1,size=2 ** 29,dtype = np.dtype('uint32'))\n",
    "    with open(file_name,'wb') as f:\n",
    "        for number in numbers:\n",
    "            f.write(number.tobytes())\n",
    "        f.close()\n",
    "create_file(file_name)"
   ]
  },
  {
   "cell_type": "markdown",
   "metadata": {},
   "source": [
    "### sequential"
   ]
  },
  {
   "cell_type": "code",
   "execution_count": 5,
   "metadata": {},
   "outputs": [],
   "source": [
    "def sequential(file_name):\n",
    "    start_time = time.time()\n",
    "\n",
    "    with open(file_name, 'rb') as f:\n",
    "        buf = f.read()\n",
    "        numbers = np.frombuffer(buf, dtype = np.dtype('uint32').newbyteorder('B'))\n",
    "        \n",
    "        sum_num = sum(numbers.tolist())\n",
    "        max_num = numbers.max()\n",
    "        min_num = numbers.min()\n",
    "        \n",
    "        f.close()\n",
    "    result_time = time.time() - start_time\n",
    "    \n",
    "    print(\"time: \", result_time)\n",
    "    print(\"sum: \", sum_num)\n",
    "    print(\"max: \", max_num)\n",
    "    print(\"min: \", min_num)"
   ]
  },
  {
   "cell_type": "code",
   "execution_count": 6,
   "metadata": {},
   "outputs": [
    {
     "name": "stdout",
     "output_type": "stream",
     "text": [
      "time:  230.61308789253235\n",
      "sum:  1152935217676459992\n",
      "max:  4294967289\n",
      "min:  31\n"
     ]
    }
   ],
   "source": [
    "sequential(file_name)"
   ]
  },
  {
   "cell_type": "markdown",
   "metadata": {},
   "source": [
    "### multithreaded_mmap"
   ]
  },
  {
   "cell_type": "code",
   "execution_count": 58,
   "metadata": {},
   "outputs": [],
   "source": [
    "def thread_func(file_name, sum_num, min_num, max_num, thread_index, chunk_start, chunk_end):\n",
    "    \n",
    "    with open(file_name, 'rb') as f:\n",
    "        buf = mmap.mmap(f.fileno(), length = chunk_end - chunk_start, offset = chunk_start, access = mmap.ACCESS_READ)        \n",
    "        numbers = np.frombuffer(buf, dtype = np.dtype('uint32').newbyteorder('B'))\n",
    "        \n",
    "        sum_num[thread_index] = sum(numbers.tolist())\n",
    "        max_num[thread_index] = numbers.max()\n",
    "        min_num[thread_index] = numbers.min() \n",
    "        \n",
    "        f.close()"
   ]
  },
  {
   "cell_type": "code",
   "execution_count": 71,
   "metadata": {},
   "outputs": [],
   "source": [
    "def multithreaded_mmap(file_name, threads_num):\n",
    "    start_time = time.time()\n",
    "    \n",
    "    threads_arr_sum = [0] * threads_num\n",
    "    threads_arr_min = [2 ** 32-1] * threads_num\n",
    "    threads_arr_max = [0] * threads_num\n",
    "    \n",
    "    threads = []\n",
    "    one_chunk_size = int( 2**29 / threads_num)\n",
    "    chunk_start = 0\n",
    "    \n",
    "    for thread_index in range(threads_num):\n",
    "        chunk_end = chunk_start + one_chunk_size\n",
    "        one_thread = threading.Thread(target = thread_func, args = (file_name, threads_arr_sum,threads_arr_min, \n",
    "                                                                threads_arr_max, thread_index,chunk_start, \n",
    "                                                                chunk_end))\n",
    "        threads.append(one_thread)\n",
    "        one_thread.start()\n",
    "        chunk_start = chunk_end\n",
    "           \n",
    "    total_sum_num = sum(threads_arr_sum)\n",
    "    total_min_num = min(threads_arr_min)\n",
    "    total_max_num = max(threads_arr_max)\n",
    "    \n",
    "    result_time = time.time() - start_time\n",
    "    \n",
    "    print(\"time: \", result_time)\n",
    "    print(\"sum: \", total_sum_num)\n",
    "    print(\"min: \", total_min_num)\n",
    "    print(\"max: \", total_max_num)"
   ]
  },
  {
   "cell_type": "code",
   "execution_count": 72,
   "metadata": {},
   "outputs": [
    {
     "name": "stdout",
     "output_type": "stream",
     "text": [
      "time:  8.695041179656982\n",
      "sum:  284855966453015471\n",
      "min:  31\n",
      "max:  4294967284\n"
     ]
    }
   ],
   "source": [
    " multithreaded_mmap(file_name, 256)"
   ]
  },
  {
   "cell_type": "code",
   "execution_count": null,
   "metadata": {},
   "outputs": [],
   "source": []
  }
 ],
 "metadata": {
  "kernelspec": {
   "display_name": "Python 3",
   "language": "python",
   "name": "python3"
  },
  "language_info": {
   "codemirror_mode": {
    "name": "ipython",
    "version": 3
   },
   "file_extension": ".py",
   "mimetype": "text/x-python",
   "name": "python",
   "nbconvert_exporter": "python",
   "pygments_lexer": "ipython3",
   "version": "3.7.6"
  }
 },
 "nbformat": 4,
 "nbformat_minor": 4
}
